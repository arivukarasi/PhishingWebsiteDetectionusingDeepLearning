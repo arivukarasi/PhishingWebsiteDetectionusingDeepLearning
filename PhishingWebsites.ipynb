{
  "nbformat": 4,
  "nbformat_minor": 0,
  "metadata": {
    "colab": {
      "name": "PhishingWebsites.ipynb",
      "version": "0.3.2",
      "provenance": [],
      "collapsed_sections": []
    },
    "kernelspec": {
      "name": "python3",
      "display_name": "Python 3"
    }
  },
  "cells": [
    {
      "metadata": {
        "id": "S2QiF7z2tw0L",
        "colab_type": "code",
        "colab": {}
      },
      "cell_type": "code",
      "source": [
        "import pandas as pd\n",
        "import io\n",
        "df = pd.read_csv('csv_result-Phishing_features.csv')"
      ],
      "execution_count": 0,
      "outputs": []
    },
    {
      "metadata": {
        "id": "jktoyjUtt0qA",
        "colab_type": "code",
        "outputId": "26f1397b-a4bd-47fd-9a4e-c80a5bb2df62",
        "colab": {
          "base_uri": "https://localhost:8080/",
          "height": 243
        }
      },
      "cell_type": "code",
      "source": [
        "df.head()"
      ],
      "execution_count": 0,
      "outputs": [
        {
          "output_type": "execute_result",
          "data": {
            "text/html": [
              "<div>\n",
              "<style scoped>\n",
              "    .dataframe tbody tr th:only-of-type {\n",
              "        vertical-align: middle;\n",
              "    }\n",
              "\n",
              "    .dataframe tbody tr th {\n",
              "        vertical-align: top;\n",
              "    }\n",
              "\n",
              "    .dataframe thead th {\n",
              "        text-align: right;\n",
              "    }\n",
              "</style>\n",
              "<table border=\"1\" class=\"dataframe\">\n",
              "  <thead>\n",
              "    <tr style=\"text-align: right;\">\n",
              "      <th></th>\n",
              "      <th>id</th>\n",
              "      <th>having_IP_Address</th>\n",
              "      <th>URL_Length</th>\n",
              "      <th>Shortining_Service</th>\n",
              "      <th>having_At_Symbol</th>\n",
              "      <th>double_slash_redirecting</th>\n",
              "      <th>Prefix_Suffix</th>\n",
              "      <th>having_Sub_Domain</th>\n",
              "      <th>SSLfinal_State</th>\n",
              "      <th>Domain_registeration_length</th>\n",
              "      <th>...</th>\n",
              "      <th>popUpWidnow</th>\n",
              "      <th>Iframe</th>\n",
              "      <th>age_of_domain</th>\n",
              "      <th>DNSRecord</th>\n",
              "      <th>web_traffic</th>\n",
              "      <th>Page_Rank</th>\n",
              "      <th>Google_Index</th>\n",
              "      <th>Links_pointing_to_page</th>\n",
              "      <th>Statistical_report</th>\n",
              "      <th>Result</th>\n",
              "    </tr>\n",
              "  </thead>\n",
              "  <tbody>\n",
              "    <tr>\n",
              "      <th>0</th>\n",
              "      <td>1</td>\n",
              "      <td>-1</td>\n",
              "      <td>1</td>\n",
              "      <td>1</td>\n",
              "      <td>1</td>\n",
              "      <td>-1</td>\n",
              "      <td>-1</td>\n",
              "      <td>-1</td>\n",
              "      <td>-1</td>\n",
              "      <td>-1</td>\n",
              "      <td>...</td>\n",
              "      <td>1</td>\n",
              "      <td>1</td>\n",
              "      <td>-1</td>\n",
              "      <td>-1</td>\n",
              "      <td>-1</td>\n",
              "      <td>-1</td>\n",
              "      <td>1</td>\n",
              "      <td>1</td>\n",
              "      <td>-1</td>\n",
              "      <td>-1</td>\n",
              "    </tr>\n",
              "    <tr>\n",
              "      <th>1</th>\n",
              "      <td>2</td>\n",
              "      <td>1</td>\n",
              "      <td>1</td>\n",
              "      <td>1</td>\n",
              "      <td>1</td>\n",
              "      <td>1</td>\n",
              "      <td>-1</td>\n",
              "      <td>0</td>\n",
              "      <td>1</td>\n",
              "      <td>-1</td>\n",
              "      <td>...</td>\n",
              "      <td>1</td>\n",
              "      <td>1</td>\n",
              "      <td>-1</td>\n",
              "      <td>-1</td>\n",
              "      <td>0</td>\n",
              "      <td>-1</td>\n",
              "      <td>1</td>\n",
              "      <td>1</td>\n",
              "      <td>1</td>\n",
              "      <td>-1</td>\n",
              "    </tr>\n",
              "    <tr>\n",
              "      <th>2</th>\n",
              "      <td>3</td>\n",
              "      <td>1</td>\n",
              "      <td>0</td>\n",
              "      <td>1</td>\n",
              "      <td>1</td>\n",
              "      <td>1</td>\n",
              "      <td>-1</td>\n",
              "      <td>-1</td>\n",
              "      <td>-1</td>\n",
              "      <td>-1</td>\n",
              "      <td>...</td>\n",
              "      <td>1</td>\n",
              "      <td>1</td>\n",
              "      <td>1</td>\n",
              "      <td>-1</td>\n",
              "      <td>1</td>\n",
              "      <td>-1</td>\n",
              "      <td>1</td>\n",
              "      <td>0</td>\n",
              "      <td>-1</td>\n",
              "      <td>-1</td>\n",
              "    </tr>\n",
              "    <tr>\n",
              "      <th>3</th>\n",
              "      <td>4</td>\n",
              "      <td>1</td>\n",
              "      <td>0</td>\n",
              "      <td>1</td>\n",
              "      <td>1</td>\n",
              "      <td>1</td>\n",
              "      <td>-1</td>\n",
              "      <td>-1</td>\n",
              "      <td>-1</td>\n",
              "      <td>1</td>\n",
              "      <td>...</td>\n",
              "      <td>1</td>\n",
              "      <td>1</td>\n",
              "      <td>-1</td>\n",
              "      <td>-1</td>\n",
              "      <td>1</td>\n",
              "      <td>-1</td>\n",
              "      <td>1</td>\n",
              "      <td>-1</td>\n",
              "      <td>1</td>\n",
              "      <td>-1</td>\n",
              "    </tr>\n",
              "    <tr>\n",
              "      <th>4</th>\n",
              "      <td>5</td>\n",
              "      <td>1</td>\n",
              "      <td>0</td>\n",
              "      <td>-1</td>\n",
              "      <td>1</td>\n",
              "      <td>1</td>\n",
              "      <td>-1</td>\n",
              "      <td>1</td>\n",
              "      <td>1</td>\n",
              "      <td>-1</td>\n",
              "      <td>...</td>\n",
              "      <td>-1</td>\n",
              "      <td>1</td>\n",
              "      <td>-1</td>\n",
              "      <td>-1</td>\n",
              "      <td>0</td>\n",
              "      <td>-1</td>\n",
              "      <td>1</td>\n",
              "      <td>1</td>\n",
              "      <td>1</td>\n",
              "      <td>1</td>\n",
              "    </tr>\n",
              "  </tbody>\n",
              "</table>\n",
              "<p>5 rows × 32 columns</p>\n",
              "</div>"
            ],
            "text/plain": [
              "   id  having_IP_Address  URL_Length  Shortining_Service  having_At_Symbol  \\\n",
              "0   1                 -1           1                   1                 1   \n",
              "1   2                  1           1                   1                 1   \n",
              "2   3                  1           0                   1                 1   \n",
              "3   4                  1           0                   1                 1   \n",
              "4   5                  1           0                  -1                 1   \n",
              "\n",
              "   double_slash_redirecting  Prefix_Suffix  having_Sub_Domain  SSLfinal_State  \\\n",
              "0                        -1             -1                 -1              -1   \n",
              "1                         1             -1                  0               1   \n",
              "2                         1             -1                 -1              -1   \n",
              "3                         1             -1                 -1              -1   \n",
              "4                         1             -1                  1               1   \n",
              "\n",
              "   Domain_registeration_length   ...    popUpWidnow  Iframe  age_of_domain  \\\n",
              "0                           -1   ...              1       1             -1   \n",
              "1                           -1   ...              1       1             -1   \n",
              "2                           -1   ...              1       1              1   \n",
              "3                            1   ...              1       1             -1   \n",
              "4                           -1   ...             -1       1             -1   \n",
              "\n",
              "   DNSRecord  web_traffic  Page_Rank  Google_Index  Links_pointing_to_page  \\\n",
              "0         -1           -1         -1             1                       1   \n",
              "1         -1            0         -1             1                       1   \n",
              "2         -1            1         -1             1                       0   \n",
              "3         -1            1         -1             1                      -1   \n",
              "4         -1            0         -1             1                       1   \n",
              "\n",
              "   Statistical_report  Result  \n",
              "0                  -1      -1  \n",
              "1                   1      -1  \n",
              "2                  -1      -1  \n",
              "3                   1      -1  \n",
              "4                   1       1  \n",
              "\n",
              "[5 rows x 32 columns]"
            ]
          },
          "metadata": {
            "tags": []
          },
          "execution_count": 4
        }
      ]
    },
    {
      "metadata": {
        "id": "-V6Up5y5uNyi",
        "colab_type": "code",
        "colab": {}
      },
      "cell_type": "code",
      "source": [
        "y = df['Result']"
      ],
      "execution_count": 0,
      "outputs": []
    },
    {
      "metadata": {
        "id": "6j7vssY-vZQj",
        "colab_type": "code",
        "outputId": "33ed2448-2b43-4b92-b107-50bb28b6f4ff",
        "colab": {
          "base_uri": "https://localhost:8080/",
          "height": 1119
        }
      },
      "cell_type": "code",
      "source": [
        "y=y.replace(-1,0)\n",
        "y"
      ],
      "execution_count": 0,
      "outputs": [
        {
          "output_type": "execute_result",
          "data": {
            "text/plain": [
              "0        0\n",
              "1        0\n",
              "2        0\n",
              "3        0\n",
              "4        1\n",
              "5        1\n",
              "6        0\n",
              "7        0\n",
              "8        1\n",
              "9        0\n",
              "10       1\n",
              "11       0\n",
              "12       0\n",
              "13       0\n",
              "14       1\n",
              "15       0\n",
              "16       0\n",
              "17       0\n",
              "18       1\n",
              "19       1\n",
              "20       1\n",
              "21       1\n",
              "22       1\n",
              "23       1\n",
              "24       1\n",
              "25       1\n",
              "26       0\n",
              "27       1\n",
              "28       1\n",
              "29       1\n",
              "        ..\n",
              "11025    1\n",
              "11026    1\n",
              "11027    1\n",
              "11028    1\n",
              "11029    0\n",
              "11030    0\n",
              "11031    1\n",
              "11032    0\n",
              "11033    1\n",
              "11034    0\n",
              "11035    1\n",
              "11036    1\n",
              "11037    0\n",
              "11038    0\n",
              "11039    0\n",
              "11040    0\n",
              "11041    1\n",
              "11042    1\n",
              "11043    0\n",
              "11044    1\n",
              "11045    1\n",
              "11046    1\n",
              "11047    0\n",
              "11048    1\n",
              "11049    0\n",
              "11050    1\n",
              "11051    0\n",
              "11052    0\n",
              "11053    0\n",
              "11054    0\n",
              "Name: Result, Length: 11055, dtype: int64"
            ]
          },
          "metadata": {
            "tags": []
          },
          "execution_count": 6
        }
      ]
    },
    {
      "metadata": {
        "id": "X6FtfTdWvaAz",
        "colab_type": "code",
        "colab": {}
      },
      "cell_type": "code",
      "source": [
        "X = df.iloc[:,1:31]"
      ],
      "execution_count": 0,
      "outputs": []
    },
    {
      "metadata": {
        "id": "AvBwlZ_mvqwG",
        "colab_type": "code",
        "outputId": "4aad8761-df8f-4004-88fd-9e478852325c",
        "colab": {
          "base_uri": "https://localhost:8080/",
          "height": 243
        }
      },
      "cell_type": "code",
      "source": [
        "X.head()  "
      ],
      "execution_count": 0,
      "outputs": [
        {
          "output_type": "execute_result",
          "data": {
            "text/html": [
              "<div>\n",
              "<style scoped>\n",
              "    .dataframe tbody tr th:only-of-type {\n",
              "        vertical-align: middle;\n",
              "    }\n",
              "\n",
              "    .dataframe tbody tr th {\n",
              "        vertical-align: top;\n",
              "    }\n",
              "\n",
              "    .dataframe thead th {\n",
              "        text-align: right;\n",
              "    }\n",
              "</style>\n",
              "<table border=\"1\" class=\"dataframe\">\n",
              "  <thead>\n",
              "    <tr style=\"text-align: right;\">\n",
              "      <th></th>\n",
              "      <th>having_IP_Address</th>\n",
              "      <th>URL_Length</th>\n",
              "      <th>Shortining_Service</th>\n",
              "      <th>having_At_Symbol</th>\n",
              "      <th>double_slash_redirecting</th>\n",
              "      <th>Prefix_Suffix</th>\n",
              "      <th>having_Sub_Domain</th>\n",
              "      <th>SSLfinal_State</th>\n",
              "      <th>Domain_registeration_length</th>\n",
              "      <th>Favicon</th>\n",
              "      <th>...</th>\n",
              "      <th>RightClick</th>\n",
              "      <th>popUpWidnow</th>\n",
              "      <th>Iframe</th>\n",
              "      <th>age_of_domain</th>\n",
              "      <th>DNSRecord</th>\n",
              "      <th>web_traffic</th>\n",
              "      <th>Page_Rank</th>\n",
              "      <th>Google_Index</th>\n",
              "      <th>Links_pointing_to_page</th>\n",
              "      <th>Statistical_report</th>\n",
              "    </tr>\n",
              "  </thead>\n",
              "  <tbody>\n",
              "    <tr>\n",
              "      <th>0</th>\n",
              "      <td>-1</td>\n",
              "      <td>1</td>\n",
              "      <td>1</td>\n",
              "      <td>1</td>\n",
              "      <td>-1</td>\n",
              "      <td>-1</td>\n",
              "      <td>-1</td>\n",
              "      <td>-1</td>\n",
              "      <td>-1</td>\n",
              "      <td>1</td>\n",
              "      <td>...</td>\n",
              "      <td>1</td>\n",
              "      <td>1</td>\n",
              "      <td>1</td>\n",
              "      <td>-1</td>\n",
              "      <td>-1</td>\n",
              "      <td>-1</td>\n",
              "      <td>-1</td>\n",
              "      <td>1</td>\n",
              "      <td>1</td>\n",
              "      <td>-1</td>\n",
              "    </tr>\n",
              "    <tr>\n",
              "      <th>1</th>\n",
              "      <td>1</td>\n",
              "      <td>1</td>\n",
              "      <td>1</td>\n",
              "      <td>1</td>\n",
              "      <td>1</td>\n",
              "      <td>-1</td>\n",
              "      <td>0</td>\n",
              "      <td>1</td>\n",
              "      <td>-1</td>\n",
              "      <td>1</td>\n",
              "      <td>...</td>\n",
              "      <td>1</td>\n",
              "      <td>1</td>\n",
              "      <td>1</td>\n",
              "      <td>-1</td>\n",
              "      <td>-1</td>\n",
              "      <td>0</td>\n",
              "      <td>-1</td>\n",
              "      <td>1</td>\n",
              "      <td>1</td>\n",
              "      <td>1</td>\n",
              "    </tr>\n",
              "    <tr>\n",
              "      <th>2</th>\n",
              "      <td>1</td>\n",
              "      <td>0</td>\n",
              "      <td>1</td>\n",
              "      <td>1</td>\n",
              "      <td>1</td>\n",
              "      <td>-1</td>\n",
              "      <td>-1</td>\n",
              "      <td>-1</td>\n",
              "      <td>-1</td>\n",
              "      <td>1</td>\n",
              "      <td>...</td>\n",
              "      <td>1</td>\n",
              "      <td>1</td>\n",
              "      <td>1</td>\n",
              "      <td>1</td>\n",
              "      <td>-1</td>\n",
              "      <td>1</td>\n",
              "      <td>-1</td>\n",
              "      <td>1</td>\n",
              "      <td>0</td>\n",
              "      <td>-1</td>\n",
              "    </tr>\n",
              "    <tr>\n",
              "      <th>3</th>\n",
              "      <td>1</td>\n",
              "      <td>0</td>\n",
              "      <td>1</td>\n",
              "      <td>1</td>\n",
              "      <td>1</td>\n",
              "      <td>-1</td>\n",
              "      <td>-1</td>\n",
              "      <td>-1</td>\n",
              "      <td>1</td>\n",
              "      <td>1</td>\n",
              "      <td>...</td>\n",
              "      <td>1</td>\n",
              "      <td>1</td>\n",
              "      <td>1</td>\n",
              "      <td>-1</td>\n",
              "      <td>-1</td>\n",
              "      <td>1</td>\n",
              "      <td>-1</td>\n",
              "      <td>1</td>\n",
              "      <td>-1</td>\n",
              "      <td>1</td>\n",
              "    </tr>\n",
              "    <tr>\n",
              "      <th>4</th>\n",
              "      <td>1</td>\n",
              "      <td>0</td>\n",
              "      <td>-1</td>\n",
              "      <td>1</td>\n",
              "      <td>1</td>\n",
              "      <td>-1</td>\n",
              "      <td>1</td>\n",
              "      <td>1</td>\n",
              "      <td>-1</td>\n",
              "      <td>1</td>\n",
              "      <td>...</td>\n",
              "      <td>1</td>\n",
              "      <td>-1</td>\n",
              "      <td>1</td>\n",
              "      <td>-1</td>\n",
              "      <td>-1</td>\n",
              "      <td>0</td>\n",
              "      <td>-1</td>\n",
              "      <td>1</td>\n",
              "      <td>1</td>\n",
              "      <td>1</td>\n",
              "    </tr>\n",
              "  </tbody>\n",
              "</table>\n",
              "<p>5 rows × 30 columns</p>\n",
              "</div>"
            ],
            "text/plain": [
              "   having_IP_Address  URL_Length  Shortining_Service  having_At_Symbol  \\\n",
              "0                 -1           1                   1                 1   \n",
              "1                  1           1                   1                 1   \n",
              "2                  1           0                   1                 1   \n",
              "3                  1           0                   1                 1   \n",
              "4                  1           0                  -1                 1   \n",
              "\n",
              "   double_slash_redirecting  Prefix_Suffix  having_Sub_Domain  SSLfinal_State  \\\n",
              "0                        -1             -1                 -1              -1   \n",
              "1                         1             -1                  0               1   \n",
              "2                         1             -1                 -1              -1   \n",
              "3                         1             -1                 -1              -1   \n",
              "4                         1             -1                  1               1   \n",
              "\n",
              "   Domain_registeration_length  Favicon         ...          RightClick  \\\n",
              "0                           -1        1         ...                   1   \n",
              "1                           -1        1         ...                   1   \n",
              "2                           -1        1         ...                   1   \n",
              "3                            1        1         ...                   1   \n",
              "4                           -1        1         ...                   1   \n",
              "\n",
              "   popUpWidnow  Iframe  age_of_domain  DNSRecord  web_traffic  Page_Rank  \\\n",
              "0            1       1             -1         -1           -1         -1   \n",
              "1            1       1             -1         -1            0         -1   \n",
              "2            1       1              1         -1            1         -1   \n",
              "3            1       1             -1         -1            1         -1   \n",
              "4           -1       1             -1         -1            0         -1   \n",
              "\n",
              "   Google_Index  Links_pointing_to_page  Statistical_report  \n",
              "0             1                       1                  -1  \n",
              "1             1                       1                   1  \n",
              "2             1                       0                  -1  \n",
              "3             1                      -1                   1  \n",
              "4             1                       1                   1  \n",
              "\n",
              "[5 rows x 30 columns]"
            ]
          },
          "metadata": {
            "tags": []
          },
          "execution_count": 8
        }
      ]
    },
    {
      "metadata": {
        "id": "PnnoY2BGwPhn",
        "colab_type": "code",
        "colab": {}
      },
      "cell_type": "code",
      "source": [
        "from sklearn.model_selection import train_test_split\n",
        "X_train, X_test, y_train, y_test = train_test_split(X, y, test_size=0.33, random_state=42)\n",
        "X_train,X_test = X_train.values,X_test.values\n",
        "y_train,y_test = y_train.values,y_test.values\n"
      ],
      "execution_count": 0,
      "outputs": []
    },
    {
      "metadata": {
        "id": "9IIMxXN0caQj",
        "colab_type": "code",
        "colab": {}
      },
      "cell_type": "code",
      "source": [
        ""
      ],
      "execution_count": 0,
      "outputs": []
    },
    {
      "metadata": {
        "id": "OPORwCHdwfac",
        "colab_type": "code",
        "outputId": "1c420105-88ef-4829-988a-421982083566",
        "colab": {
          "base_uri": "https://localhost:8080/",
          "height": 357
        }
      },
      "cell_type": "code",
      "source": [
        "import tensorflow as tf\n",
        "\n",
        "model = tf.keras.models.Sequential([\n",
        "  tf.keras.layers.Dense(512, activation=tf.nn.relu),\n",
        "  tf.keras.layers.Dense(512, activation=tf.nn.relu),\n",
        "  tf.keras.layers.Dense(256, activation=tf.nn.relu),\n",
        "  tf.keras.layers.Dense(1, activation=tf.nn.sigmoid)\n",
        "])\n",
        "model.compile(optimizer='adam',\n",
        "              loss='binary_crossentropy',\n",
        "              metrics=['accuracy'])\n",
        "\n",
        "model.fit(X_train, y_train, epochs=5)\n",
        "model.evaluate(X_test, y_test)"
      ],
      "execution_count": 0,
      "outputs": [
        {
          "output_type": "stream",
          "text": [
            "WARNING:tensorflow:From /usr/local/lib/python3.6/dist-packages/tensorflow/python/ops/resource_variable_ops.py:435: colocate_with (from tensorflow.python.framework.ops) is deprecated and will be removed in a future version.\n",
            "Instructions for updating:\n",
            "Colocations handled automatically by placer.\n",
            "WARNING:tensorflow:From /usr/local/lib/python3.6/dist-packages/tensorflow/python/ops/math_ops.py:3066: to_int32 (from tensorflow.python.ops.math_ops) is deprecated and will be removed in a future version.\n",
            "Instructions for updating:\n",
            "Use tf.cast instead.\n",
            "Epoch 1/5\n",
            "7406/7406 [==============================] - 3s 368us/sample - loss: 0.1957 - acc: 0.9221\n",
            "Epoch 2/5\n",
            "7406/7406 [==============================] - 2s 288us/sample - loss: 0.1376 - acc: 0.9450\n",
            "Epoch 3/5\n",
            "7406/7406 [==============================] - 2s 295us/sample - loss: 0.1107 - acc: 0.9548\n",
            "Epoch 4/5\n",
            "7406/7406 [==============================] - 2s 300us/sample - loss: 0.0982 - acc: 0.9575\n",
            "Epoch 5/5\n",
            "7406/7406 [==============================] - 2s 300us/sample - loss: 0.0847 - acc: 0.9641\n",
            "3649/3649 [==============================] - 0s 87us/sample - loss: 0.1027 - acc: 0.9559\n"
          ],
          "name": "stdout"
        },
        {
          "output_type": "execute_result",
          "data": {
            "text/plain": [
              "[0.10267040678232328, 0.9558783]"
            ]
          },
          "metadata": {
            "tags": []
          },
          "execution_count": 10
        }
      ]
    },
    {
      "metadata": {
        "id": "hebM2ah3-bm7",
        "colab_type": "code",
        "outputId": "7c67d316-fef1-4a31-bec7-cb61db6e12a6",
        "colab": {
          "base_uri": "https://localhost:8080/",
          "height": 300
        }
      },
      "cell_type": "code",
      "source": [
        "l=[0.9221,0.9450,0.9548,0.9575,0.9641]\n",
        "l1 = [1,2,3,4,5]\n",
        "import matplotlib.pyplot as plt\n",
        "plt.ylabel('Train Accuracy of Model2-Adam')\n",
        "plt.xlabel('Epochs')\n",
        "plt.plot(l1,l)"
      ],
      "execution_count": 0,
      "outputs": [
        {
          "output_type": "execute_result",
          "data": {
            "text/plain": [
              "[<matplotlib.lines.Line2D at 0x7fb528481160>]"
            ]
          },
          "metadata": {
            "tags": []
          },
          "execution_count": 28
        },
        {
          "output_type": "display_data",
          "data": {
            "image/png": "[encoded data removed]",
            "text/plain": [
              "<Figure size 432x288 with 1 Axes>"
            ]
          },
          "metadata": {
            "tags": []
          }
        }
      ]
    },
    {
      "metadata": {
        "id": "sxZHdKZu9_kq",
        "colab_type": "code",
        "outputId": "5a1aff6c-13c1-4f51-b42c-8663cacb2a3a",
        "colab": {
          "base_uri": "https://localhost:8080/",
          "height": 230
        }
      },
      "cell_type": "code",
      "source": [
        "import tensorflow as tf\n",
        "\n",
        "model = tf.keras.models.Sequential([\n",
        "  tf.keras.layers.Dense(512, activation=tf.nn.relu),\n",
        "  tf.keras.layers.Dense(512, activation=tf.nn.relu),\n",
        "  tf.keras.layers.Dense(256, activation=tf.nn.relu),\n",
        "  tf.keras.layers.Dense(1, activation=tf.nn.sigmoid)\n",
        "])\n",
        "model.compile(optimizer='rmsprop',\n",
        "              loss='binary_crossentropy',\n",
        "              metrics=['accuracy'])\n",
        "\n",
        "model.fit(X_train, y_train, epochs=5)\n",
        "model.evaluate(X_test, y_test)"
      ],
      "execution_count": 0,
      "outputs": [
        {
          "output_type": "stream",
          "text": [
            "Epoch 1/5\n",
            "7406/7406 [==============================] - 2s 307us/sample - loss: 0.2006 - acc: 0.9176\n",
            "Epoch 2/5\n",
            "7406/7406 [==============================] - 2s 272us/sample - loss: 0.1411 - acc: 0.9423\n",
            "Epoch 3/5\n",
            "7406/7406 [==============================] - 2s 268us/sample - loss: 0.1171 - acc: 0.9521\n",
            "Epoch 4/5\n",
            "7406/7406 [==============================] - 2s 270us/sample - loss: 0.1028 - acc: 0.9569\n",
            "Epoch 5/5\n",
            "7406/7406 [==============================] - 2s 266us/sample - loss: 0.0934 - acc: 0.9607\n",
            "3649/3649 [==============================] - 0s 109us/sample - loss: 0.1315 - acc: 0.9512\n"
          ],
          "name": "stdout"
        },
        {
          "output_type": "execute_result",
          "data": {
            "text/plain": [
              "[0.13149743561068114, 0.9512195]"
            ]
          },
          "metadata": {
            "tags": []
          },
          "execution_count": 32
        }
      ]
    },
    {
      "metadata": {
        "id": "Wz7cBBCr-OSz",
        "colab_type": "code",
        "outputId": "b9bd0c8d-1b61-4afa-e45c-c0a4c3155034",
        "colab": {
          "base_uri": "https://localhost:8080/",
          "height": 300
        }
      },
      "cell_type": "code",
      "source": [
        "l=[0.9184,0.9432,0.9514,0.9584,0.9610]\n",
        "l1 = [1,2,3,4,5]\n",
        "import matplotlib.pyplot as plt\n",
        "plt.ylabel('Train Accuracy of Model2-RMSProp')\n",
        "plt.xlabel('Epochs')\n",
        "plt.plot(l1,l)"
      ],
      "execution_count": 0,
      "outputs": [
        {
          "output_type": "execute_result",
          "data": {
            "text/plain": [
              "[<matplotlib.lines.Line2D at 0x7fb527e04668>]"
            ]
          },
          "metadata": {
            "tags": []
          },
          "execution_count": 30
        },
        {
          "output_type": "display_data",
          "data": {
            "image/png": "[encoded data removed]",
            "text/plain": [
              "<Figure size 432x288 with 1 Axes>"
            ]
          },
          "metadata": {
            "tags": []
          }
        }
      ]
    },
    {
      "metadata": {
        "id": "2BRbLoUz-aG9",
        "colab_type": "code",
        "outputId": "78b9e1ba-e3ab-4238-8950-f53c209c6130",
        "colab": {
          "base_uri": "https://localhost:8080/",
          "height": 230
        }
      },
      "cell_type": "code",
      "source": [
        "import tensorflow as tf\n",
        "\n",
        "model = tf.keras.models.Sequential([\n",
        "  tf.keras.layers.Dense(512, activation=tf.nn.relu),\n",
        "  tf.keras.layers.Dense(512, activation=tf.nn.relu),\n",
        "  tf.keras.layers.Dense(256, activation=tf.nn.relu),\n",
        "  tf.keras.layers.Dense(1, activation=tf.nn.sigmoid)\n",
        "])\n",
        "model.compile(optimizer='sgd',\n",
        "              loss='binary_crossentropy',\n",
        "              metrics=['accuracy'])\n",
        "\n",
        "model.fit(X_train, y_train, epochs=5)\n",
        "model.evaluate(X_test, y_test)"
      ],
      "execution_count": 0,
      "outputs": [
        {
          "output_type": "stream",
          "text": [
            "Epoch 1/5\n",
            "7406/7406 [==============================] - 2s 242us/sample - loss: 0.4878 - acc: 0.8415\n",
            "Epoch 2/5\n",
            "7406/7406 [==============================] - 1s 201us/sample - loss: 0.2420 - acc: 0.9237\n",
            "Epoch 3/5\n",
            "7406/7406 [==============================] - 2s 211us/sample - loss: 0.1977 - acc: 0.9295\n",
            "Epoch 4/5\n",
            "7406/7406 [==============================] - 2s 208us/sample - loss: 0.1822 - acc: 0.9328\n",
            "Epoch 5/5\n",
            "7406/7406 [==============================] - 2s 210us/sample - loss: 0.1747 - acc: 0.9341\n",
            "3649/3649 [==============================] - 0s 84us/sample - loss: 0.1801 - acc: 0.9282\n"
          ],
          "name": "stdout"
        },
        {
          "output_type": "execute_result",
          "data": {
            "text/plain": [
              "[0.18008839431512058, 0.9281995]"
            ]
          },
          "metadata": {
            "tags": []
          },
          "execution_count": 18
        }
      ]
    },
    {
      "metadata": {
        "id": "Oz9oJWEY-k2Q",
        "colab_type": "code",
        "outputId": "b31918b6-e71f-4343-ac89-33629fa690e4",
        "colab": {
          "base_uri": "https://localhost:8080/",
          "height": 300
        }
      },
      "cell_type": "code",
      "source": [
        "l=[0.8415,0.9237,0.9295,0.9328,0.9341]\n",
        "l1 = [1,2,3,4,5]\n",
        "import matplotlib.pyplot as plt\n",
        "plt.ylabel('Train Accuracy of Model2-SGD')\n",
        "plt.xlabel('Epochs')\n",
        "plt.plot(l1,l)"
      ],
      "execution_count": 0,
      "outputs": [
        {
          "output_type": "execute_result",
          "data": {
            "text/plain": [
              "[<matplotlib.lines.Line2D at 0x7fb527d5fda0>]"
            ]
          },
          "metadata": {
            "tags": []
          },
          "execution_count": 31
        },
        {
          "output_type": "display_data",
          "data": {
            "image/png": "[encoded data removed]",
            "text/plain": [
              "<Figure size 432x288 with 1 Axes>"
            ]
          },
          "metadata": {
            "tags": []
          }
        }
      ]
    },
    {
      "metadata": {
        "id": "xZN5kvUD_7hh",
        "colab_type": "code",
        "outputId": "5fee3f6d-d552-4abd-da84-2826767ace61",
        "colab": {
          "base_uri": "https://localhost:8080/",
          "height": 300
        }
      },
      "cell_type": "code",
      "source": [
        "l=[0.9559,0.9512,0.9282]\n",
        "l1 = ['Adam','RMSProp','SGD']\n",
        "import matplotlib.pyplot as plt\n",
        "plt.ylabel('Test Accuracy of Model2')\n",
        "plt.xlabel('Optimizers')\n",
        "plt.plot(l1,l)"
      ],
      "execution_count": 0,
      "outputs": [
        {
          "output_type": "execute_result",
          "data": {
            "text/plain": [
              "[<matplotlib.lines.Line2D at 0x7fb527728c50>]"
            ]
          },
          "metadata": {
            "tags": []
          },
          "execution_count": 34
        },
        {
          "output_type": "display_data",
          "data": {
            "image/png": "[encoded data removed]",
            "text/plain": [
              "<Figure size 432x288 with 1 Axes>"
            ]
          },
          "metadata": {
            "tags": []
          }
        }
      ]
    },
    {
      "metadata": {
        "id": "ufZe7WHBwpQL",
        "colab_type": "code",
        "outputId": "6065f9a7-9705-4479-c367-61afaf90afe5",
        "colab": {
          "base_uri": "https://localhost:8080/",
          "height": 304
        }
      },
      "cell_type": "code",
      "source": [
        "import tensorflow as tf\n",
        "\n",
        "model1 = tf.keras.models.Sequential([\n",
        "  tf.keras.layers.Dense(512, activation=tf.nn.relu),\n",
        "  tf.keras.layers.Dense(512, activation=tf.nn.relu),\n",
        "  tf.keras.layers.Dense(1024, activation=tf.nn.relu),\n",
        "  tf.keras.layers.Dropout(0.2),\n",
        "  tf.keras.layers.Dense(1, activation=tf.nn.sigmoid)\n",
        "])\n",
        "model1.compile(optimizer='adam',\n",
        "              loss='binary_crossentropy',\n",
        "              metrics=['accuracy'])\n",
        "\n",
        "model1.fit(X_train, y_train, epochs=5)\n",
        "model1.evaluate(X_test, y_test)"
      ],
      "execution_count": 0,
      "outputs": [
        {
          "output_type": "stream",
          "text": [
            "WARNING:tensorflow:From /usr/local/lib/python3.6/dist-packages/tensorflow/python/keras/layers/core.py:143: calling dropout (from tensorflow.python.ops.nn_ops) with keep_prob is deprecated and will be removed in a future version.\n",
            "Instructions for updating:\n",
            "Please use `rate` instead of `keep_prob`. Rate should be set to `rate = 1 - keep_prob`.\n",
            "Epoch 1/5\n",
            "7406/7406 [==============================] - 4s 592us/sample - loss: 0.1967 - acc: 0.9194\n",
            "Epoch 2/5\n",
            "7406/7406 [==============================] - 4s 542us/sample - loss: 0.1342 - acc: 0.9427\n",
            "Epoch 3/5\n",
            "7406/7406 [==============================] - 4s 545us/sample - loss: 0.1132 - acc: 0.9537\n",
            "Epoch 4/5\n",
            "7406/7406 [==============================] - 4s 540us/sample - loss: 0.0961 - acc: 0.9599\n",
            "Epoch 5/5\n",
            "7406/7406 [==============================] - 4s 548us/sample - loss: 0.0858 - acc: 0.9644\n",
            "3649/3649 [==============================] - 0s 125us/sample - loss: 0.1283 - acc: 0.9479\n"
          ],
          "name": "stdout"
        },
        {
          "output_type": "execute_result",
          "data": {
            "text/plain": [
              "[0.12834409176568262, 0.94793093]"
            ]
          },
          "metadata": {
            "tags": []
          },
          "execution_count": 20
        }
      ]
    },
    {
      "metadata": {
        "id": "ToHU7FZd65HI",
        "colab_type": "code",
        "outputId": "50273d81-79d6-49ca-d9cf-48600eba6802",
        "colab": {
          "base_uri": "https://localhost:8080/",
          "height": 300
        }
      },
      "cell_type": "code",
      "source": [
        "l=[0.9194,0.9430,0.9537,0.9599,0.9644]\n",
        "l1 = [1,2,3,4,5]\n",
        "import matplotlib.pyplot as plt\n",
        "plt.ylabel('Train Accuracy of Model1-Adam')\n",
        "plt.xlabel('Epochs')\n",
        "plt.plot(l1,l)"
      ],
      "execution_count": 0,
      "outputs": [
        {
          "output_type": "execute_result",
          "data": {
            "text/plain": [
              "[<matplotlib.lines.Line2D at 0x7fb52913ddd8>]"
            ]
          },
          "metadata": {
            "tags": []
          },
          "execution_count": 23
        },
        {
          "output_type": "display_data",
          "data": {
            "image/png": "[encoded data removed]",
            "text/plain": [
              "<Figure size 432x288 with 1 Axes>"
            ]
          },
          "metadata": {
            "tags": []
          }
        }
      ]
    },
    {
      "metadata": {
        "id": "b-zjRtKe_GB6",
        "colab_type": "code",
        "outputId": "bf80e50c-9a24-45c7-c7dd-6aa07cce6b60",
        "colab": {
          "base_uri": "https://localhost:8080/",
          "height": 230
        }
      },
      "cell_type": "code",
      "source": [
        "import tensorflow as tf\n",
        "\n",
        "model1 = tf.keras.models.Sequential([\n",
        "  tf.keras.layers.Dense(512, activation=tf.nn.relu),\n",
        "  tf.keras.layers.Dense(512, activation=tf.nn.relu),\n",
        "  tf.keras.layers.Dense(1024, activation=tf.nn.relu),\n",
        "  tf.keras.layers.Dropout(0.2),\n",
        "  tf.keras.layers.Dense(1, activation=tf.nn.sigmoid)\n",
        "])\n",
        "model1.compile(optimizer='rmsprop',\n",
        "              loss='binary_crossentropy',\n",
        "              metrics=['accuracy'])\n",
        "\n",
        "model1.fit(X_train, y_train, epochs=5)\n",
        "model1.evaluate(X_test, y_test)"
      ],
      "execution_count": 0,
      "outputs": [
        {
          "output_type": "stream",
          "text": [
            "Epoch 1/5\n",
            "7406/7406 [==============================] - 4s 496us/sample - loss: 0.2137 - acc: 0.9191\n",
            "Epoch 2/5\n",
            "7406/7406 [==============================] - 3s 454us/sample - loss: 0.1439 - acc: 0.9442\n",
            "Epoch 3/5\n",
            "7406/7406 [==============================] - 3s 464us/sample - loss: 0.1191 - acc: 0.9511\n",
            "Epoch 4/5\n",
            "7406/7406 [==============================] - 3s 465us/sample - loss: 0.1064 - acc: 0.9584\n",
            "Epoch 5/5\n",
            "7406/7406 [==============================] - 3s 462us/sample - loss: 0.0948 - acc: 0.9598\n",
            "3649/3649 [==============================] - 0s 127us/sample - loss: 0.1303 - acc: 0.9529\n"
          ],
          "name": "stdout"
        },
        {
          "output_type": "execute_result",
          "data": {
            "text/plain": [
              "[0.13028898693786545, 0.9528638]"
            ]
          },
          "metadata": {
            "tags": []
          },
          "execution_count": 24
        }
      ]
    },
    {
      "metadata": {
        "id": "N3Pfj7Fs_NbG",
        "colab_type": "code",
        "outputId": "ab1f26ce-a40f-4a41-eece-cb41aea91cc6",
        "colab": {
          "base_uri": "https://localhost:8080/",
          "height": 300
        }
      },
      "cell_type": "code",
      "source": [
        "l=[0.9191,0.9442,0.9511,0.9584,0.9598]\n",
        "l1 = [1,2,3,4,5]\n",
        "import matplotlib.pyplot as plt\n",
        "plt.ylabel('Train Accuracy of Model1-RMSProp')\n",
        "plt.xlabel('Epochs')\n",
        "plt.plot(l1,l)"
      ],
      "execution_count": 0,
      "outputs": [
        {
          "output_type": "execute_result",
          "data": {
            "text/plain": [
              "[<matplotlib.lines.Line2D at 0x7fb528a4d7f0>]"
            ]
          },
          "metadata": {
            "tags": []
          },
          "execution_count": 25
        },
        {
          "output_type": "display_data",
          "data": {
            "image/png": "[encoded data removed]",
            "text/plain": [
              "<Figure size 432x288 with 1 Axes>"
            ]
          },
          "metadata": {
            "tags": []
          }
        }
      ]
    },
    {
      "metadata": {
        "id": "LVecqZmM_Y54",
        "colab_type": "code",
        "outputId": "d3eb49a8-9218-402d-bd03-ba1a61877d4b",
        "colab": {
          "base_uri": "https://localhost:8080/",
          "height": 230
        }
      },
      "cell_type": "code",
      "source": [
        "import tensorflow as tf\n",
        "\n",
        "model1 = tf.keras.models.Sequential([\n",
        "  tf.keras.layers.Dense(512, activation=tf.nn.relu),\n",
        "  tf.keras.layers.Dense(512, activation=tf.nn.relu),\n",
        "  tf.keras.layers.Dense(1024, activation=tf.nn.relu),\n",
        "  tf.keras.layers.Dropout(0.2),\n",
        "  tf.keras.layers.Dense(1, activation=tf.nn.sigmoid)\n",
        "])\n",
        "model1.compile(optimizer='sgd',\n",
        "              loss='binary_crossentropy',\n",
        "              metrics=['accuracy'])\n",
        "\n",
        "model1.fit(X_train, y_train, epochs=5)\n",
        "model1.evaluate(X_test, y_test)"
      ],
      "execution_count": 0,
      "outputs": [
        {
          "output_type": "stream",
          "text": [
            "Epoch 1/5\n",
            "7406/7406 [==============================] - 3s 413us/sample - loss: 0.5098 - acc: 0.7918\n",
            "Epoch 2/5\n",
            "7406/7406 [==============================] - 3s 374us/sample - loss: 0.2555 - acc: 0.9160\n",
            "Epoch 3/5\n",
            "7406/7406 [==============================] - 3s 366us/sample - loss: 0.2079 - acc: 0.9241\n",
            "Epoch 4/5\n",
            "7406/7406 [==============================] - 3s 371us/sample - loss: 0.1912 - acc: 0.9291\n",
            "Epoch 5/5\n",
            "7406/7406 [==============================] - 3s 367us/sample - loss: 0.1804 - acc: 0.9337\n",
            "3649/3649 [==============================] - 0s 134us/sample - loss: 0.1863 - acc: 0.9282\n"
          ],
          "name": "stdout"
        },
        {
          "output_type": "execute_result",
          "data": {
            "text/plain": [
              "[0.18626050857296705, 0.9281995]"
            ]
          },
          "metadata": {
            "tags": []
          },
          "execution_count": 26
        }
      ]
    },
    {
      "metadata": {
        "id": "43JlFuO-_eYZ",
        "colab_type": "code",
        "outputId": "356c5b25-7a62-4879-89cd-f6f311572f30",
        "colab": {
          "base_uri": "https://localhost:8080/",
          "height": 300
        }
      },
      "cell_type": "code",
      "source": [
        "l=[0.7918,0.9160,0.9241,0.9291,0.9337]\n",
        "l1 = [1,2,3,4,5]\n",
        "import matplotlib.pyplot as plt\n",
        "plt.ylabel('Train Accuracy of Model1-SGD')\n",
        "plt.xlabel('Epochs')\n",
        "plt.plot(l1,l)"
      ],
      "execution_count": 0,
      "outputs": [
        {
          "output_type": "execute_result",
          "data": {
            "text/plain": [
              "[<matplotlib.lines.Line2D at 0x7fb528493cc0>]"
            ]
          },
          "metadata": {
            "tags": []
          },
          "execution_count": 27
        },
        {
          "output_type": "display_data",
          "data": {
            "image/png": "[encoded data removed]",
            "text/plain": [
              "<Figure size 432x288 with 1 Axes>"
            ]
          },
          "metadata": {
            "tags": []
          }
        }
      ]
    },
    {
      "metadata": {
        "id": "0_JgoEGXAX06",
        "colab_type": "code",
        "outputId": "cd103351-a666-4266-eb62-40c370753f4c",
        "colab": {
          "base_uri": "https://localhost:8080/",
          "height": 300
        }
      },
      "cell_type": "code",
      "source": [
        "l=[0.9479,0.9529,0.9282]\n",
        "l1 = ['Adam','RMSProp','SGD']\n",
        "import matplotlib.pyplot as plt\n",
        "plt.ylabel('Test Accuracy of Model1')\n",
        "plt.xlabel('Optimizers')\n",
        "plt.plot(l1,l)"
      ],
      "execution_count": 0,
      "outputs": [
        {
          "output_type": "execute_result",
          "data": {
            "text/plain": [
              "[<matplotlib.lines.Line2D at 0x7fb5276c0710>]"
            ]
          },
          "metadata": {
            "tags": []
          },
          "execution_count": 36
        },
        {
          "output_type": "display_data",
          "data": {
            "image/png": "[encoded data removed]",
            "text/plain": [
              "<Figure size 432x288 with 1 Axes>"
            ]
          },
          "metadata": {
            "tags": []
          }
        }
      ]
    },
    {
      "metadata": {
        "id": "KMmn-4SQtXOK",
        "colab_type": "code",
        "colab": {}
      },
      "cell_type": "code",
      "source": [
        "pred = model.predict(X_test)"
      ],
      "execution_count": 0,
      "outputs": []
    },
    {
      "metadata": {
        "id": "nRmqDQ8tzebc",
        "colab_type": "code",
        "outputId": "49e41777-53bf-45cb-f6ce-961f2d99203f",
        "colab": {
          "base_uri": "https://localhost:8080/",
          "height": 34
        }
      },
      "cell_type": "code",
      "source": [
        "round(pred[7][0])"
      ],
      "execution_count": 0,
      "outputs": [
        {
          "output_type": "execute_result",
          "data": {
            "text/plain": [
              "0.0"
            ]
          },
          "metadata": {
            "tags": []
          },
          "execution_count": 15
        }
      ]
    },
    {
      "metadata": {
        "id": "zeHCtJJq36Jg",
        "colab_type": "code",
        "outputId": "1beb2e4f-8fcb-4755-b7d6-45b624a3e4a2",
        "colab": {
          "base_uri": "https://localhost:8080/",
          "height": 221
        }
      },
      "cell_type": "code",
      "source": [
        "import tensorflow as tf\n",
        "\n",
        "model1 = tf.keras.models.Sequential([\n",
        "  tf.keras.layers.Dense(512, activation=tf.nn.relu),\n",
        "  tf.keras.layers.Dense(512, activation=tf.nn.relu),\n",
        "  tf.keras.layers.Dense(1024, activation=tf.nn.relu),\n",
        "  tf.keras.layers.Dropout(0.2),\n",
        "  tf.keras.layers.Dense(2, activation=tf.nn.sigmoid)\n",
        "])\n",
        "model1.compile(optimizer='sgd',\n",
        "              loss='sparse_categorical_crossentropy',\n",
        "              metrics=['accuracy'])\n",
        "\n",
        "model1.fit(X_train, y_train, epochs=5)\n",
        "model1.evaluate(X_test, y_test)"
      ],
      "execution_count": 0,
      "outputs": [
        {
          "output_type": "stream",
          "text": [
            "Epoch 1/5\n",
            "7406/7406 [==============================] - 3s 365us/sample - loss: 0.5763 - acc: 0.8099\n",
            "Epoch 2/5\n",
            "7406/7406 [==============================] - 3s 343us/sample - loss: 0.2914 - acc: 0.9045\n",
            "Epoch 3/5\n",
            "7406/7406 [==============================] - 3s 345us/sample - loss: 0.2275 - acc: 0.9193\n",
            "Epoch 4/5\n",
            "7406/7406 [==============================] - 3s 345us/sample - loss: 0.1983 - acc: 0.9259\n",
            "Epoch 5/5\n",
            "7406/7406 [==============================] - 3s 347us/sample - loss: 0.1831 - acc: 0.9301\n",
            "3649/3649 [==============================] - 0s 116us/sample - loss: 0.1871 - acc: 0.9260\n"
          ],
          "name": "stdout"
        },
        {
          "output_type": "execute_result",
          "data": {
            "text/plain": [
              "[0.1870557349425337, 0.92600715]"
            ]
          },
          "metadata": {
            "tags": []
          },
          "execution_count": 16
        }
      ]
    },
    {
      "metadata": {
        "id": "MWzU-wqtz1xF",
        "colab_type": "code",
        "colab": {}
      },
      "cell_type": "code",
      "source": [
        "import numpy as np\n",
        "l = np.array([[1,0,1,1,1,-1,-1,-1,-1,1,1,-1,1,0,-1,-1,-1,-1,0,1,1,1,1,1,-1,1,-1,1,0,-1]])\n",
        "p= model.predict(l)"
      ],
      "execution_count": 0,
      "outputs": []
    },
    {
      "metadata": {
        "id": "U6On7TNQHtWY",
        "colab_type": "code",
        "outputId": "4c9d374c-073b-4cba-c9c4-09d0bc16df1d",
        "colab": {
          "base_uri": "https://localhost:8080/",
          "height": 34
        }
      },
      "cell_type": "code",
      "source": [
        "round(p[0][0])"
      ],
      "execution_count": 0,
      "outputs": [
        {
          "output_type": "execute_result",
          "data": {
            "text/plain": [
              "0.0"
            ]
          },
          "metadata": {
            "tags": []
          },
          "execution_count": 42
        }
      ]
    },
    {
      "metadata": {
        "id": "yDLYAwxnHx5P",
        "colab_type": "code",
        "colab": {}
      },
      "cell_type": "code",
      "source": [
        ""
      ],
      "execution_count": 0,
      "outputs": []
    },
    {
      "metadata": {
        "id": "bRirHW1XIFu3",
        "colab_type": "code",
        "outputId": "bfb9897b-4b31-492b-a064-3b30db6209b6",
        "colab": {
          "base_uri": "https://localhost:8080/",
          "height": 34
        }
      },
      "cell_type": "code",
      "source": [
        "round(pred[0][0])\n"
      ],
      "execution_count": 0,
      "outputs": [
        {
          "output_type": "execute_result",
          "data": {
            "text/plain": [
              "0.0"
            ]
          },
          "metadata": {
            "tags": []
          },
          "execution_count": 22
        }
      ]
    },
    {
      "metadata": {
        "id": "ZVwrczgrI1kO",
        "colab_type": "code",
        "outputId": "ecb0b5f0-d116-4f23-d486-a6ec00ee02d2",
        "colab": {
          "base_uri": "https://localhost:8080/",
          "height": 34
        }
      },
      "cell_type": "code",
      "source": [
        "y_test[0]"
      ],
      "execution_count": 0,
      "outputs": [
        {
          "output_type": "execute_result",
          "data": {
            "text/plain": [
              "0"
            ]
          },
          "metadata": {
            "tags": []
          },
          "execution_count": 23
        }
      ]
    },
    {
      "metadata": {
        "id": "7SngfRMkJcsM",
        "colab_type": "code",
        "outputId": "de24101a-a77a-41a7-a828-e773cd9234a6",
        "colab": {
          "base_uri": "https://localhost:8080/",
          "height": 34
        }
      },
      "cell_type": "code",
      "source": [
        "round(pred[9][0])"
      ],
      "execution_count": 0,
      "outputs": [
        {
          "output_type": "execute_result",
          "data": {
            "text/plain": [
              "1.0"
            ]
          },
          "metadata": {
            "tags": []
          },
          "execution_count": 25
        }
      ]
    },
    {
      "metadata": {
        "id": "xgNlp4XGNPES",
        "colab_type": "code",
        "outputId": "71cedfab-a53c-423f-c0cd-a98809b3a1ff",
        "colab": {
          "base_uri": "https://localhost:8080/",
          "height": 34
        }
      },
      "cell_type": "code",
      "source": [
        "print(y_test[9])\n",
        "pred = model.predict(X_test)"
      ],
      "execution_count": 0,
      "outputs": [
        {
          "output_type": "stream",
          "text": [
            "0\n"
          ],
          "name": "stdout"
        }
      ]
    },
    {
      "metadata": {
        "id": "SuW6VB45fajz",
        "colab_type": "code",
        "outputId": "e38f2c63-1ecd-4e19-beb8-df27bf6c0161",
        "colab": {
          "base_uri": "https://localhost:8080/",
          "height": 34
        }
      },
      "cell_type": "code",
      "source": [
        "y_test[20]"
      ],
      "execution_count": 0,
      "outputs": [
        {
          "output_type": "execute_result",
          "data": {
            "text/plain": [
              "0"
            ]
          },
          "metadata": {
            "tags": []
          },
          "execution_count": 28
        }
      ]
    },
    {
      "metadata": {
        "id": "X8agvIhQfmJt",
        "colab_type": "code",
        "outputId": "7b775441-8cea-4bce-80d6-a0e8bc01e392",
        "colab": {
          "base_uri": "https://localhost:8080/",
          "height": 34
        }
      },
      "cell_type": "code",
      "source": [
        "round(pred[20][0])"
      ],
      "execution_count": 0,
      "outputs": [
        {
          "output_type": "execute_result",
          "data": {
            "text/plain": [
              "0.0"
            ]
          },
          "metadata": {
            "tags": []
          },
          "execution_count": 29
        }
      ]
    },
    {
      "metadata": {
        "id": "WG62ie-yf4KQ",
        "colab_type": "code",
        "outputId": "9dd0e799-664e-454e-bfe3-119cc662abaa",
        "colab": {
          "base_uri": "https://localhost:8080/",
          "height": 395
        }
      },
      "cell_type": "code",
      "source": [
        "l=[0.9182,0.9372,0.9534,0.9550,0.9577]\n",
        "l3=[0.8079,0.9041,0.9164,0.9222,0.9287]\n",
        "l2=[0.9125,0.9430,0.9498,0.9552,0.9602]\n",
        "l1 = [1,2,3,4,5]\n",
        "import matplotlib.pyplot as plt\n",
        "plt.xlabel(\"Epochs\")\n",
        "plt.ylabel(\"Accuracy\")\n",
        "plt.plot(l1,l2,l)\n",
        "plt.plot(l1,l3,l)"
      ],
      "execution_count": 0,
      "outputs": [
        {
          "output_type": "execute_result",
          "data": {
            "text/plain": [
              "[<matplotlib.lines.Line2D at 0x7fc011993b70>,\n",
              " <matplotlib.lines.Line2D at 0x7fc0118a9e80>]"
            ]
          },
          "metadata": {
            "tags": []
          },
          "execution_count": 30
        },
        {
          "output_type": "display_data",
          "data": {
            "image/png": "[encoded data removed]",
            "text/plain": [
              "<Figure size 576x396 with 1 Axes>"
            ]
          },
          "metadata": {
            "tags": []
          }
        }
      ]
    },
    {
      "metadata": {
        "id": "xl9LsOp4_Agl",
        "colab_type": "code",
        "outputId": "bfb0c729-43e7-4377-92b7-3958bec06da8",
        "colab": {
          "base_uri": "https://localhost:8080/",
          "height": 221
        }
      },
      "cell_type": "code",
      "source": [
        "import tensorflow as tf\n",
        "\n",
        "model = tf.keras.models.Sequential([\n",
        "  tf.keras.layers.Dense(512, activation=tf.nn.relu),\n",
        "  tf.keras.layers.Dense(512, activation=tf.nn.relu),\n",
        "  tf.keras.layers.Dense(256, activation=tf.nn.relu),\n",
        "  tf.keras.layers.Dense(1, activation=tf.nn.sigmoid)\n",
        "])\n",
        "model.compile(optimizer='rmsprop',\n",
        "              loss='binary_crossentropy',\n",
        "              metrics=['accuracy'])\n",
        "\n",
        "model.fit(X_train, y_train, epochs=5)\n",
        "model.evaluate(X_test, y_test)"
      ],
      "execution_count": 0,
      "outputs": [
        {
          "output_type": "stream",
          "text": [
            "Epoch 1/5\n",
            "7406/7406 [==============================] - 2s 279us/sample - loss: 0.2411 - acc: 0.9013\n",
            "Epoch 2/5\n",
            "7406/7406 [==============================] - 2s 256us/sample - loss: 0.1591 - acc: 0.9357\n",
            "Epoch 3/5\n",
            "7406/7406 [==============================] - 2s 259us/sample - loss: 0.1317 - acc: 0.9483\n",
            "Epoch 4/5\n",
            "7406/7406 [==============================] - 2s 255us/sample - loss: 0.1205 - acc: 0.9522\n",
            "Epoch 5/5\n",
            "7406/7406 [==============================] - 2s 251us/sample - loss: 0.1124 - acc: 0.9563\n",
            "3649/3649 [==============================] - 0s 85us/sample - loss: 0.1163 - acc: 0.9545\n"
          ],
          "name": "stdout"
        },
        {
          "output_type": "execute_result",
          "data": {
            "text/plain": [
              "[0.11630499277393536, 0.95450807]"
            ]
          },
          "metadata": {
            "tags": []
          },
          "execution_count": 31
        }
      ]
    },
    {
      "metadata": {
        "id": "W4phFmss4Y_e",
        "colab_type": "code",
        "outputId": "16457895-bb81-4429-832d-4eb7cd7e8068",
        "colab": {
          "base_uri": "https://localhost:8080/",
          "height": 221
        }
      },
      "cell_type": "code",
      "source": [
        "import tensorflow as tf\n",
        "\n",
        "model = tf.keras.models.Sequential([\n",
        "  tf.keras.layers.Dense(512, activation=tf.nn.relu),\n",
        "  tf.keras.layers.Dense(512, activation=tf.nn.relu),\n",
        "  tf.keras.layers.Dense(256, activation=tf.nn.relu),\n",
        "  tf.keras.layers.Dense(1, activation=tf.nn.sigmoid)\n",
        "])\n",
        "model.compile(optimizer='sgd',\n",
        "              loss='binary_crossentropy',\n",
        "              metrics=['accuracy'])\n",
        "\n",
        "model.fit(X_train, y_train, epochs=5)\n",
        "model.evaluate(X_test, y_test)"
      ],
      "execution_count": 0,
      "outputs": [
        {
          "output_type": "stream",
          "text": [
            "Epoch 1/5\n",
            "7406/7406 [==============================] - 2s 217us/sample - loss: 0.5134 - acc: 0.8343\n",
            "Epoch 2/5\n",
            "7406/7406 [==============================] - 1s 193us/sample - loss: 0.2809 - acc: 0.9093\n",
            "Epoch 3/5\n",
            "7406/7406 [==============================] - 1s 193us/sample - loss: 0.2278 - acc: 0.9178\n",
            "Epoch 4/5\n",
            "7406/7406 [==============================] - 2s 206us/sample - loss: 0.2028 - acc: 0.9224\n",
            "Epoch 5/5\n",
            "7406/7406 [==============================] - 2s 205us/sample - loss: 0.1871 - acc: 0.9302\n",
            "3649/3649 [==============================] - 0s 86us/sample - loss: 0.1878 - acc: 0.9249\n"
          ],
          "name": "stdout"
        },
        {
          "output_type": "execute_result",
          "data": {
            "text/plain": [
              "[0.18777581128103174, 0.92491096]"
            ]
          },
          "metadata": {
            "tags": []
          },
          "execution_count": 32
        }
      ]
    },
    {
      "metadata": {
        "id": "gUuH0Qk44dEq",
        "colab_type": "code",
        "outputId": "a7e93733-665a-4b2b-ff99-bae38a272870",
        "colab": {
          "base_uri": "https://localhost:8080/",
          "height": 378
        }
      },
      "cell_type": "code",
      "source": [
        "adam=[0.9182,0.9372,0.9534,0.9550,0.9577]\n",
        "rms = [0.9020,0.9369,0.9491,0.9522,0.9571]\n",
        "sgd = [0.8327,0.9126,0.9179,0.9249,0.9283]\n",
        "l = [1,2,3,4,5]\n",
        "plt.plot(adam,l)\n",
        "plt.plot(sgd,l)\n",
        "plt.plot(rms,l)\n",
        "plt.xlabel(\"Epochs\")\n",
        "plt.ylabel(\"Train Accuracy\")"
      ],
      "execution_count": 0,
      "outputs": [
        {
          "output_type": "execute_result",
          "data": {
            "text/plain": [
              "Text(0, 0.5, 'Train Accuracy')"
            ]
          },
          "metadata": {
            "tags": []
          },
          "execution_count": 33
        },
        {
          "output_type": "display_data",
          "data": {
            "image/png": "[encoded data removed]",
            "text/plain": [
              "<Figure size 576x396 with 1 Axes>"
            ]
          },
          "metadata": {
            "tags": []
          }
        }
      ]
    },
    {
      "metadata": {
        "id": "-7QQo-pG5bCg",
        "colab_type": "code",
        "outputId": "98d195a2-9415-41db-d8ba-311606de29da",
        "colab": {
          "base_uri": "https://localhost:8080/",
          "height": 221
        }
      },
      "cell_type": "code",
      "source": [
        "import tensorflow as tf\n",
        "\n",
        "model1 = tf.keras.models.Sequential([\n",
        "  tf.keras.layers.Dense(512, activation=tf.nn.relu),\n",
        "  tf.keras.layers.Dense(512, activation=tf.nn.relu),\n",
        "  tf.keras.layers.Dense(1024, activation=tf.nn.relu),\n",
        "  tf.keras.layers.Dropout(0.2),\n",
        "  tf.keras.layers.Dense(1, activation=tf.nn.sigmoid)\n",
        "])\n",
        "model1.compile(optimizer='adam',\n",
        "              loss='binary_crossentropy',\n",
        "              metrics=['accuracy'])\n",
        "\n",
        "model1.fit(X_train, y_train, epochs=5)\n",
        "model1.evaluate(X_test, y_test)"
      ],
      "execution_count": 0,
      "outputs": [
        {
          "output_type": "stream",
          "text": [
            "Epoch 1/5\n",
            "7406/7406 [==============================] - 5s 619us/sample - loss: 0.2107 - acc: 0.9132\n",
            "Epoch 2/5\n",
            "7406/7406 [==============================] - 5s 610us/sample - loss: 0.1383 - acc: 0.9415\n",
            "Epoch 3/5\n",
            "7406/7406 [==============================] - 4s 596us/sample - loss: 0.1177 - acc: 0.9544\n",
            "Epoch 4/5\n",
            "7406/7406 [==============================] - 4s 571us/sample - loss: 0.1001 - acc: 0.9606\n",
            "Epoch 5/5\n",
            "7406/7406 [==============================] - 4s 579us/sample - loss: 0.0921 - acc: 0.9607\n",
            "3649/3649 [==============================] - 1s 158us/sample - loss: 0.1247 - acc: 0.9540\n"
          ],
          "name": "stdout"
        },
        {
          "output_type": "execute_result",
          "data": {
            "text/plain": [
              "[0.12468271436479589, 0.95396]"
            ]
          },
          "metadata": {
            "tags": []
          },
          "execution_count": 49
        }
      ]
    },
    {
      "metadata": {
        "id": "CmWPb8mV9gE5",
        "colab_type": "code",
        "outputId": "c6883889-1584-4490-a266-bd38cb01e4f8",
        "colab": {
          "base_uri": "https://localhost:8080/",
          "height": 378
        }
      },
      "cell_type": "code",
      "source": [
        "adam=[0.9132, 0.9415,0.9544,0.9606,0.9607]\n",
        "rms = [0.9035,0.9376,0.9449,0.9529,0.9557]\n",
        "sgd = [0.8342,0.9068,0.9159,0.9210,0.9270]\n",
        "l = [1,2,3,4,5]\n",
        "plt.plot(adam,l)\n",
        "plt.plot(sgd,l)\n",
        "plt.plot(rms,l)\n",
        "plt.ylabel(\"Epochs\")\n",
        "plt.xlabel(\"Train Accuracy\")"
      ],
      "execution_count": 0,
      "outputs": [
        {
          "output_type": "execute_result",
          "data": {
            "text/plain": [
              "Text(0.5, 0, 'Train Accuracy')"
            ]
          },
          "metadata": {
            "tags": []
          },
          "execution_count": 35
        },
        {
          "output_type": "display_data",
          "data": {
            "image/png": "[encoded data removed]",
            "text/plain": [
              "<Figure size 576x396 with 1 Axes>"
            ]
          },
          "metadata": {
            "tags": []
          }
        }
      ]
    },
    {
      "metadata": {
        "id": "Fk_DYUJa-ILY",
        "colab_type": "code",
        "colab": {
          "base_uri": "https://localhost:8080/",
          "height": 945
        },
        "outputId": "915b3364-c466-4bfd-d71d-081cc346ddfc"
      },
      "cell_type": "code",
      "source": [
        "import numpy as np\n",
        "def URLhavingattherate(URL): #4th column\n",
        "    if '@' in URL:\n",
        "        return 0\n",
        "    else:\n",
        "        return 1\n",
        "def Redirectusingdoubleslash(URL):#5th column\n",
        "    p=0\n",
        "    for i in range(len(URL)-1):\n",
        "        if URL[i]==\"/\" and URL[i+1]==\"/\":\n",
        "            p=i\n",
        "    if p>7:\n",
        "        return 0\n",
        "    else:\n",
        "        return 1\n",
        "def prefixsuffix(URL): #6th column\n",
        "    if '-' in URL:\n",
        "         return 0\n",
        "    else:\n",
        "        return 1\n",
        "def Length(URL): #2nd column\n",
        "    if len(URL)<54:\n",
        "         return 1\n",
        "    else:\n",
        "        return 0.\n",
        "def TinyURL(URL): #3rd column\n",
        "    if 'bit.ly' in url:\n",
        "         return 1\n",
        "    else:\n",
        "        return 0\n",
        "def IP(URL):#1st Column\n",
        "    if URL.count('x')>6:\n",
        "        return 0\n",
        "    else:\n",
        "        return 1\n",
        "def Dot(URL):#7th column\n",
        "    if URL.count('.')>3:\n",
        "        return 0\n",
        "    else:\n",
        "        return 1\n",
        "def HTTPS(URL):#8th column\n",
        "    if 'https' in URL:\n",
        "        return 1\n",
        "    else:\n",
        "        return 0\n",
        "def valid(e):\n",
        "    if e<=1:\n",
        "        return 1\n",
        "    else:\n",
        "        return 0\n",
        "def favicon(f):\n",
        "    if f==1:\n",
        "        return 1\n",
        "    else:\n",
        "        return 0\n",
        "\n",
        "def nonstandardport(port): #11\n",
        "   if port == True:return 0 \n",
        "   else: return 1\n",
        "\n",
        "def requestUrl(URL): #13 column\n",
        "    if URL>=22 and URL<=61:\n",
        "        return 1\n",
        "    else:\n",
        "        return 0\n",
        "def anchor(URL): #14column\n",
        "    if URL>=31 and URL<=67:\n",
        "        return 1\n",
        "    else:\n",
        "        return 0\n",
        "def SFH(sfh): #16column\n",
        "    if sfh=='':\n",
        "        return 1\n",
        "    else:\n",
        "        return 0\n",
        "def email(mail): #17column\n",
        "    mail=0\n",
        "    if mail==1:\n",
        "        return 1\n",
        "    else:\n",
        "        return 0\n",
        "def abnormal(URL): #18column\n",
        "    hostname=''\n",
        "    if URL==hostname:\n",
        "        return 1\n",
        "    else:\n",
        "        return 0\n",
        "def redirect(URL): #19column\n",
        "    redirect=1\n",
        "    if redirect>=2 and redirect<4:\n",
        "        return 1\n",
        "    else:\n",
        "        return 0\n",
        "def onmouseover(URL): #20colum\n",
        "    if len(URL) >20:\n",
        "        return 0\n",
        "    else:\n",
        "        return 1\n",
        "\n",
        "\n",
        "\n",
        "    \n",
        "def rightclick(URL): #21column\n",
        "    if len(URL)>12:\n",
        "        return 1\n",
        "    else:\n",
        "        return 0\n",
        "def popup(txt): #22column\n",
        "    if txt==\"\":\n",
        "        return 0\n",
        "    else:\n",
        "        return 1\n",
        "\n",
        "\n",
        "def iframe(frame): #23\n",
        "    frame=0\n",
        "    if frame==1:\n",
        "        return 1\n",
        "    else:\n",
        "        return 0\n",
        "def ageofdomain(month): #24\n",
        "    #month = int(input('Enter the number to be converted: '))\n",
        "    if month<6:\n",
        "        return 1\n",
        "    else:\n",
        "        return 0\n",
        "def dnsrecord(dns): #25\n",
        "    if dns=='':\n",
        "        return 1\n",
        "    else:\n",
        "        return 0\n",
        "def websitetraffic(rank): #26\n",
        "    if rank>=100000:\n",
        "        return 1\n",
        "    else:\n",
        "        return 0\n",
        "def pagerank(prank): #27\n",
        "    if prank<0.2:\n",
        "        return 1\n",
        "    else :\n",
        "        return 0\n",
        "def googleindex(index): #28\n",
        "    if index == True:\n",
        "        return 1\n",
        "    else:\n",
        "        return 0\n",
        "\n",
        "def numboflinks(link): #29\n",
        "    if link>=0 and link<=2:\n",
        "        return 1\n",
        "    else:\n",
        "        return 0\n",
        "\n",
        "url = input()\n",
        "exp = int(input())\n",
        "L=[]\n",
        "for i in range(30):\n",
        "    L+=[0]\n",
        "c9 = valid(exp)\n",
        "L[8] = c9\n",
        "c8 = Dot(url)\n",
        "L[7] = c8\n",
        "c7 = Dot(url)\n",
        "L[6] = c7\n",
        "c1 = IP(url)\n",
        "L[0] = c1\n",
        "c3 = TinyURL(url)\n",
        "L[2]=c3\n",
        "c2 = Length(url)\n",
        "L[1] = c2\n",
        "p = URLhavingattherate(url)\n",
        "L[3]=p\n",
        "k = Redirectusingdoubleslash(url)\n",
        "L[4]=k\n",
        "s = prefixsuffix(url)\n",
        "L[5]=s\n",
        "f = int(input())\n",
        "c10 = favicon(f)\n",
        "L[9] = c10\n",
        "port = int(input('port'))\n",
        "c11 = nonstandardport(port)\n",
        "L[10]=c11\n",
        "c12=requestUrl(url)\n",
        "L[11]= c12\n",
        "c13=anchor(url)\n",
        "L[12]= c13\n",
        "c14 = SFH(url)\n",
        "L[13]= c14\n",
        "mail = int(input('Mail'))\n",
        "c15 = email(mail)\n",
        "L[14] = c15\n",
        "c16 = abnormal(url)\n",
        "L[15] = c16\n",
        "c17 = redirect(url)\n",
        "L[16] = c17\n",
        "c18 = onmouseover(url)\n",
        "L[17] = c18\n",
        "c19 = rightclick(url)\n",
        "L[18] = c19\n",
        "c20 = popup(url)\n",
        "L[19] = c20\n",
        "frame = int(input('frame'))\n",
        "c21 = iframe(frame)\n",
        "L[20] = c21\n",
        "age = int(input('age'))\n",
        "c22 = ageofdomain(age)\n",
        "L[21] = c22\n",
        "dns = int(input('dns'))\n",
        "c23 = dnsrecord(dns)\n",
        "L[22] = c23\n",
        "rank = int(input('rank'))\n",
        "c24 = websitetraffic(rank)\n",
        "L[23] = c24\n",
        "c25 = googleindex(rank)\n",
        "L[24] = c25\n",
        "links = int(input('Links'))\n",
        "c26 = numboflinks(links)\n",
        "L[25] = c26\n",
        "for i in range(26,30):\n",
        "    p = np.random.randn(1)\n",
        "    if p>0.5:\n",
        "        L[i] = 1\n",
        "    else:\n",
        "        L[i] = 0\n",
        "print(*L)\n"
      ],
      "execution_count": 6,
      "outputs": [
        {
          "output_type": "error",
          "ename": "KeyboardInterrupt",
          "evalue": "ignored",
          "traceback": [
            "\u001b[0;31m---------------------------------------------------------------------------\u001b[0m",
            "\u001b[0;31mKeyboardInterrupt\u001b[0m                         Traceback (most recent call last)",
            "\u001b[0;32m/usr/local/lib/python3.6/dist-packages/ipykernel/kernelbase.py\u001b[0m in \u001b[0;36m_input_request\u001b[0;34m(self, prompt, ident, parent, password)\u001b[0m\n\u001b[1;32m    729\u001b[0m             \u001b[0;32mtry\u001b[0m\u001b[0;34m:\u001b[0m\u001b[0;34m\u001b[0m\u001b[0;34m\u001b[0m\u001b[0m\n\u001b[0;32m--> 730\u001b[0;31m                 \u001b[0mident\u001b[0m\u001b[0;34m,\u001b[0m \u001b[0mreply\u001b[0m \u001b[0;34m=\u001b[0m \u001b[0mself\u001b[0m\u001b[0;34m.\u001b[0m\u001b[0msession\u001b[0m\u001b[0;34m.\u001b[0m\u001b[0mrecv\u001b[0m\u001b[0;34m(\u001b[0m\u001b[0mself\u001b[0m\u001b[0;34m.\u001b[0m\u001b[0mstdin_socket\u001b[0m\u001b[0;34m,\u001b[0m \u001b[0;36m0\u001b[0m\u001b[0;34m)\u001b[0m\u001b[0;34m\u001b[0m\u001b[0;34m\u001b[0m\u001b[0m\n\u001b[0m\u001b[1;32m    731\u001b[0m             \u001b[0;32mexcept\u001b[0m \u001b[0mException\u001b[0m\u001b[0;34m:\u001b[0m\u001b[0;34m\u001b[0m\u001b[0;34m\u001b[0m\u001b[0m\n",
            "\u001b[0;32m/usr/local/lib/python3.6/dist-packages/jupyter_client/session.py\u001b[0m in \u001b[0;36mrecv\u001b[0;34m(self, socket, mode, content, copy)\u001b[0m\n\u001b[1;32m    802\u001b[0m         \u001b[0;32mtry\u001b[0m\u001b[0;34m:\u001b[0m\u001b[0;34m\u001b[0m\u001b[0;34m\u001b[0m\u001b[0m\n\u001b[0;32m--> 803\u001b[0;31m             \u001b[0mmsg_list\u001b[0m \u001b[0;34m=\u001b[0m \u001b[0msocket\u001b[0m\u001b[0;34m.\u001b[0m\u001b[0mrecv_multipart\u001b[0m\u001b[0;34m(\u001b[0m\u001b[0mmode\u001b[0m\u001b[0;34m,\u001b[0m \u001b[0mcopy\u001b[0m\u001b[0;34m=\u001b[0m\u001b[0mcopy\u001b[0m\u001b[0;34m)\u001b[0m\u001b[0;34m\u001b[0m\u001b[0;34m\u001b[0m\u001b[0m\n\u001b[0m\u001b[1;32m    804\u001b[0m         \u001b[0;32mexcept\u001b[0m \u001b[0mzmq\u001b[0m\u001b[0;34m.\u001b[0m\u001b[0mZMQError\u001b[0m \u001b[0;32mas\u001b[0m \u001b[0me\u001b[0m\u001b[0;34m:\u001b[0m\u001b[0;34m\u001b[0m\u001b[0;34m\u001b[0m\u001b[0m\n",
            "\u001b[0;32m/usr/local/lib/python3.6/dist-packages/zmq/sugar/socket.py\u001b[0m in \u001b[0;36mrecv_multipart\u001b[0;34m(self, flags, copy, track)\u001b[0m\n\u001b[1;32m    465\u001b[0m         \"\"\"\n\u001b[0;32m--> 466\u001b[0;31m         \u001b[0mparts\u001b[0m \u001b[0;34m=\u001b[0m \u001b[0;34m[\u001b[0m\u001b[0mself\u001b[0m\u001b[0;34m.\u001b[0m\u001b[0mrecv\u001b[0m\u001b[0;34m(\u001b[0m\u001b[0mflags\u001b[0m\u001b[0;34m,\u001b[0m \u001b[0mcopy\u001b[0m\u001b[0;34m=\u001b[0m\u001b[0mcopy\u001b[0m\u001b[0;34m,\u001b[0m \u001b[0mtrack\u001b[0m\u001b[0;34m=\u001b[0m\u001b[0mtrack\u001b[0m\u001b[0;34m)\u001b[0m\u001b[0;34m]\u001b[0m\u001b[0;34m\u001b[0m\u001b[0;34m\u001b[0m\u001b[0m\n\u001b[0m\u001b[1;32m    467\u001b[0m         \u001b[0;31m# have first part already, only loop while more to receive\u001b[0m\u001b[0;34m\u001b[0m\u001b[0;34m\u001b[0m\u001b[0;34m\u001b[0m\u001b[0m\n",
            "\u001b[0;32mzmq/backend/cython/socket.pyx\u001b[0m in \u001b[0;36mzmq.backend.cython.socket.Socket.recv\u001b[0;34m()\u001b[0m\n",
            "\u001b[0;32mzmq/backend/cython/socket.pyx\u001b[0m in \u001b[0;36mzmq.backend.cython.socket.Socket.recv\u001b[0;34m()\u001b[0m\n",
            "\u001b[0;32mzmq/backend/cython/socket.pyx\u001b[0m in \u001b[0;36mzmq.backend.cython.socket._recv_copy\u001b[0;34m()\u001b[0m\n",
            "\u001b[0;32m/usr/local/lib/python3.6/dist-packages/zmq/backend/cython/checkrc.pxd\u001b[0m in \u001b[0;36mzmq.backend.cython.checkrc._check_rc\u001b[0;34m()\u001b[0m\n",
            "\u001b[0;31mKeyboardInterrupt\u001b[0m: ",
            "\nDuring handling of the above exception, another exception occurred:\n",
            "\u001b[0;31mKeyboardInterrupt\u001b[0m                         Traceback (most recent call last)",
            "\u001b[0;32m<ipython-input-6-2784cedc88ec>\u001b[0m in \u001b[0;36m<module>\u001b[0;34m()\u001b[0m\n\u001b[1;32m    152\u001b[0m         \u001b[0;32mreturn\u001b[0m \u001b[0;36m0\u001b[0m\u001b[0;34m\u001b[0m\u001b[0;34m\u001b[0m\u001b[0m\n\u001b[1;32m    153\u001b[0m \u001b[0;34m\u001b[0m\u001b[0m\n\u001b[0;32m--> 154\u001b[0;31m \u001b[0murl\u001b[0m \u001b[0;34m=\u001b[0m \u001b[0minput\u001b[0m\u001b[0;34m(\u001b[0m\u001b[0;34m)\u001b[0m\u001b[0;34m\u001b[0m\u001b[0;34m\u001b[0m\u001b[0m\n\u001b[0m\u001b[1;32m    155\u001b[0m \u001b[0mexp\u001b[0m \u001b[0;34m=\u001b[0m \u001b[0mint\u001b[0m\u001b[0;34m(\u001b[0m\u001b[0minput\u001b[0m\u001b[0;34m(\u001b[0m\u001b[0;34m)\u001b[0m\u001b[0;34m)\u001b[0m\u001b[0;34m\u001b[0m\u001b[0;34m\u001b[0m\u001b[0m\n\u001b[1;32m    156\u001b[0m \u001b[0mL\u001b[0m\u001b[0;34m=\u001b[0m\u001b[0;34m[\u001b[0m\u001b[0;34m]\u001b[0m\u001b[0;34m\u001b[0m\u001b[0;34m\u001b[0m\u001b[0m\n",
            "\u001b[0;32m/usr/local/lib/python3.6/dist-packages/ipykernel/kernelbase.py\u001b[0m in \u001b[0;36mraw_input\u001b[0;34m(self, prompt)\u001b[0m\n\u001b[1;32m    703\u001b[0m             \u001b[0mself\u001b[0m\u001b[0;34m.\u001b[0m\u001b[0m_parent_ident\u001b[0m\u001b[0;34m,\u001b[0m\u001b[0;34m\u001b[0m\u001b[0;34m\u001b[0m\u001b[0m\n\u001b[1;32m    704\u001b[0m             \u001b[0mself\u001b[0m\u001b[0;34m.\u001b[0m\u001b[0m_parent_header\u001b[0m\u001b[0;34m,\u001b[0m\u001b[0;34m\u001b[0m\u001b[0;34m\u001b[0m\u001b[0m\n\u001b[0;32m--> 705\u001b[0;31m             \u001b[0mpassword\u001b[0m\u001b[0;34m=\u001b[0m\u001b[0;32mFalse\u001b[0m\u001b[0;34m,\u001b[0m\u001b[0;34m\u001b[0m\u001b[0;34m\u001b[0m\u001b[0m\n\u001b[0m\u001b[1;32m    706\u001b[0m         )\n\u001b[1;32m    707\u001b[0m \u001b[0;34m\u001b[0m\u001b[0m\n",
            "\u001b[0;32m/usr/local/lib/python3.6/dist-packages/ipykernel/kernelbase.py\u001b[0m in \u001b[0;36m_input_request\u001b[0;34m(self, prompt, ident, parent, password)\u001b[0m\n\u001b[1;32m    733\u001b[0m             \u001b[0;32mexcept\u001b[0m \u001b[0mKeyboardInterrupt\u001b[0m\u001b[0;34m:\u001b[0m\u001b[0;34m\u001b[0m\u001b[0;34m\u001b[0m\u001b[0m\n\u001b[1;32m    734\u001b[0m                 \u001b[0;31m# re-raise KeyboardInterrupt, to truncate traceback\u001b[0m\u001b[0;34m\u001b[0m\u001b[0;34m\u001b[0m\u001b[0;34m\u001b[0m\u001b[0m\n\u001b[0;32m--> 735\u001b[0;31m                 \u001b[0;32mraise\u001b[0m \u001b[0mKeyboardInterrupt\u001b[0m\u001b[0;34m\u001b[0m\u001b[0;34m\u001b[0m\u001b[0m\n\u001b[0m\u001b[1;32m    736\u001b[0m             \u001b[0;32melse\u001b[0m\u001b[0;34m:\u001b[0m\u001b[0;34m\u001b[0m\u001b[0;34m\u001b[0m\u001b[0m\n\u001b[1;32m    737\u001b[0m                 \u001b[0;32mbreak\u001b[0m\u001b[0;34m\u001b[0m\u001b[0;34m\u001b[0m\u001b[0m\n",
            "\u001b[0;31mKeyboardInterrupt\u001b[0m: "
          ]
        }
      ]
    },
    {
      "metadata": {
        "id": "ecK62B_tm-B6",
        "colab_type": "code",
        "colab": {}
      },
      "cell_type": "code",
      "source": [
        ""
      ],
      "execution_count": 0,
      "outputs": []
    }
  ]
}